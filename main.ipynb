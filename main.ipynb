{
 "cells": [
  {
   "cell_type": "code",
   "execution_count": 19,
   "metadata": {},
   "outputs": [],
   "source": [
    "import os\n",
    "import pillow_heif\n",
    "from PIL import Image\n",
    "\n",
    "def heic_to_jpg(heic_path, jpg_path):\n",
    "    # Open the .heic file using pyheif\n",
    "    heif_file = pillow_heif.read_heif(heic_path)\n",
    "    \n",
    "    # Convert the .heic image data to a Pillow image object\n",
    "    image = Image.frombytes(\n",
    "        heif_file.mode,\n",
    "        heif_file.size,\n",
    "        heif_file.data,\n",
    "        \"raw\",\n",
    "        heif_file.mode,\n",
    "        heif_file.stride,\n",
    "    )\n",
    "    \n",
    "    # Save the Pillow image object as .jpg\n",
    "    image.save(jpg_path, \"JPEG\")\n",
    "\n",
    "def batch_convert_heic_to_jpg(directory_path):\n",
    "    for root, _, files in os.walk(directory_path):\n",
    "        for filename in files:\n",
    "            if filename.lower().endswith(\".heic\"):\n",
    "                heic_file_path = os.path.join(root, filename)\n",
    "                jpg_file_path = os.path.join(root, os.path.splitext(filename)[0] + \".jpg\")\n",
    "                heic_to_jpg(heic_file_path, jpg_file_path)\n",
    "                os.remove(heic_file_path)\n",
    "\n",
    "# Example usage\n",
    "directory_path = \"/Users/joshuagao/Library/Mobile Documents/iCloud~md~obsidian/Documents/Donna/Notion\"\n",
    "batch_convert_heic_to_jpg(directory_path)\n"
   ]
  }
 ],
 "metadata": {
  "kernelspec": {
   "display_name": "heic",
   "language": "python",
   "name": "python3"
  },
  "language_info": {
   "codemirror_mode": {
    "name": "ipython",
    "version": 3
   },
   "file_extension": ".py",
   "mimetype": "text/x-python",
   "name": "python",
   "nbconvert_exporter": "python",
   "pygments_lexer": "ipython3",
   "version": "3.10.12"
  },
  "orig_nbformat": 4
 },
 "nbformat": 4,
 "nbformat_minor": 2
}
